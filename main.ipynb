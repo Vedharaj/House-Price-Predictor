{
 "cells": [
  {
   "cell_type": "code",
   "execution_count": 2,
   "id": "2567a508-c741-4bb7-bb54-ab30508f416c",
   "metadata": {},
   "outputs": [],
   "source": [
    "import numpy as np\n",
    "import matplotlib.pyplot as plt\n",
    "import pandas as pd\n",
    "from sklearn.model_selection import train_test_split\n",
    "from sklearn.linear_model import LinearRegression\n",
    "from sklearn.metrics import mean_absolute_error, mean_squared_error,r2_score"
   ]
  },
  {
   "cell_type": "markdown",
   "id": "ef643cf9-2c5e-4594-bae7-5dc6a67225f6",
   "metadata": {
    "jp-MarkdownHeadingCollapsed": true
   },
   "source": [
    "### initialize the Data"
   ]
  },
  {
   "cell_type": "code",
   "execution_count": 3,
   "id": "ece4e58c-94fd-4acb-82ae-d6121395af86",
   "metadata": {},
   "outputs": [],
   "source": [
    "csv = pd.read_csv('data.csv')"
   ]
  },
  {
   "cell_type": "code",
   "execution_count": 4,
   "id": "e62db394-6e06-47e6-8a73-4a490dbb3100",
   "metadata": {},
   "outputs": [
    {
     "data": {
      "text/plain": [
       "81"
      ]
     },
     "execution_count": 4,
     "metadata": {},
     "output_type": "execute_result"
    }
   ],
   "source": [
    "len(csv.columns)"
   ]
  },
  {
   "cell_type": "code",
   "execution_count": 5,
   "id": "ed12445e-3fbb-4bd2-9ae7-f18d2a981175",
   "metadata": {},
   "outputs": [],
   "source": [
    "y = csv.SalePrice\n",
    "x = csv.drop(columns = ['SalePrice'])"
   ]
  },
  {
   "cell_type": "markdown",
   "id": "bebea7af-55ce-44e4-b545-851614b57d83",
   "metadata": {},
   "source": [
    "### Prepare the Data"
   ]
  },
  {
   "cell_type": "markdown",
   "id": "9fad65aa-d4b5-4ab6-b497-672653702b39",
   "metadata": {
    "jp-MarkdownHeadingCollapsed": true
   },
   "source": [
    "#### Clear most Nan Values"
   ]
  },
  {
   "cell_type": "code",
   "execution_count": 6,
   "id": "532de846-ba33-4a10-8e4d-51557bd8c71c",
   "metadata": {},
   "outputs": [],
   "source": [
    "nan_mask = x.isna().sum(axis=0)<30"
   ]
  },
  {
   "cell_type": "code",
   "execution_count": 7,
   "id": "a84d67d2-6c21-4e60-8209-0f957c745faf",
   "metadata": {},
   "outputs": [],
   "source": [
    "x = x.loc[:,nan_mask]"
   ]
  },
  {
   "cell_type": "markdown",
   "id": "fb1ea1ff-bbee-4f54-90ce-fb50432a05e3",
   "metadata": {},
   "source": [
    "#### Convert obj into int64"
   ]
  },
  {
   "cell_type": "code",
   "execution_count": 8,
   "id": "c0e43864-f980-40a1-9963-0bbd292b05b0",
   "metadata": {},
   "outputs": [
    {
     "name": "stdout",
     "output_type": "stream",
     "text": [
      "MSZoning\n",
      "Street\n",
      "LotShape\n",
      "LandContour\n",
      "Utilities\n",
      "LotConfig\n",
      "LandSlope\n",
      "Neighborhood\n",
      "Condition1\n",
      "Condition2\n",
      "BldgType\n",
      "HouseStyle\n",
      "RoofStyle\n",
      "RoofMatl\n",
      "Exterior1st\n",
      "Exterior2nd\n",
      "MasVnrType\n",
      "ExterQual\n",
      "ExterCond\n",
      "Foundation\n",
      "Heating\n",
      "HeatingQC\n",
      "CentralAir\n",
      "Electrical\n",
      "KitchenQual\n",
      "Functional\n",
      "PavedDrive\n",
      "SaleType\n",
      "SaleCondition\n"
     ]
    }
   ],
   "source": [
    "for c in x.select_dtypes(include='object').columns:\n",
    "    x[c] = x[c].astype('category').cat.codes\n",
    "    print(c)"
   ]
  },
  {
   "cell_type": "markdown",
   "id": "9216578a-74ca-4761-a2b7-b34c9efdf05f",
   "metadata": {},
   "source": [
    "#### Fill the Nan values in x"
   ]
  },
  {
   "cell_type": "code",
   "execution_count": 9,
   "id": "a17d09a4-fd1b-40fa-9b43-db56e13c8aa1",
   "metadata": {},
   "outputs": [
    {
     "name": "stdout",
     "output_type": "stream",
     "text": [
      "MasVnrArea\n"
     ]
    }
   ],
   "source": [
    "for c in x.loc[:,x.isna().any()].columns.tolist():\n",
    "    x[c].fillna(x[c].mean, inplace=True)\n",
    "    print(c)"
   ]
  },
  {
   "cell_type": "markdown",
   "id": "410f218f-7e1e-4ae4-8d86-a786e0ec86d2",
   "metadata": {},
   "source": [
    "#### Convert int8 into int64"
   ]
  },
  {
   "cell_type": "code",
   "execution_count": 10,
   "id": "8b454a90-73f6-4051-8faf-fe5e70109a5a",
   "metadata": {},
   "outputs": [
    {
     "name": "stdout",
     "output_type": "stream",
     "text": [
      "MSZoning\n",
      "Street\n",
      "LotShape\n",
      "LandContour\n",
      "Utilities\n",
      "LotConfig\n",
      "LandSlope\n",
      "Neighborhood\n",
      "Condition1\n",
      "Condition2\n",
      "BldgType\n",
      "HouseStyle\n",
      "RoofStyle\n",
      "RoofMatl\n",
      "Exterior1st\n",
      "Exterior2nd\n",
      "MasVnrType\n",
      "ExterQual\n",
      "ExterCond\n",
      "Foundation\n",
      "Heating\n",
      "HeatingQC\n",
      "CentralAir\n",
      "Electrical\n",
      "KitchenQual\n",
      "Functional\n",
      "PavedDrive\n",
      "SaleType\n",
      "SaleCondition\n"
     ]
    }
   ],
   "source": [
    "for c in x.select_dtypes(include='int8').columns:\n",
    "    x[c] = x[c].astype(np.int64)\n",
    "    print(c)"
   ]
  },
  {
   "cell_type": "markdown",
   "id": "06e8d049-1e2c-4f46-82d3-c17fc6a7e8e2",
   "metadata": {},
   "source": [
    "#### Remove Obj Column"
   ]
  },
  {
   "cell_type": "code",
   "execution_count": 11,
   "id": "3ac48633-c69d-482f-ab70-37ce356d1939",
   "metadata": {},
   "outputs": [
    {
     "name": "stdout",
     "output_type": "stream",
     "text": [
      "MasVnrArea\n"
     ]
    }
   ],
   "source": [
    "for i in x.select_dtypes(include='O').columns:\n",
    "    x.drop(columns=i,inplace=True)\n",
    "    print(i)"
   ]
  },
  {
   "cell_type": "markdown",
   "id": "5e49c876-0d91-4f41-a886-51dd6044d470",
   "metadata": {},
   "source": [
    "### Develop the Model"
   ]
  },
  {
   "cell_type": "code",
   "execution_count": 12,
   "id": "8551449a-debf-4247-be04-da6faae8f2c0",
   "metadata": {},
   "outputs": [],
   "source": [
    "xtrain,xtest,ytrain,ytest = train_test_split(x,y,test_size=0.25,random_state=0)"
   ]
  },
  {
   "cell_type": "code",
   "execution_count": 13,
   "id": "fb9254b8-de41-404f-a2d0-fcf78794bfb4",
   "metadata": {},
   "outputs": [],
   "source": [
    "mod = LinearRegression()"
   ]
  },
  {
   "cell_type": "code",
   "execution_count": 14,
   "id": "a7ef4c81-9748-49a2-b6f2-6ad0bb4646a8",
   "metadata": {
    "scrolled": true
   },
   "outputs": [
    {
     "data": {
      "text/html": [
       "<style>#sk-container-id-1 {color: black;}#sk-container-id-1 pre{padding: 0;}#sk-container-id-1 div.sk-toggleable {background-color: white;}#sk-container-id-1 label.sk-toggleable__label {cursor: pointer;display: block;width: 100%;margin-bottom: 0;padding: 0.3em;box-sizing: border-box;text-align: center;}#sk-container-id-1 label.sk-toggleable__label-arrow:before {content: \"▸\";float: left;margin-right: 0.25em;color: #696969;}#sk-container-id-1 label.sk-toggleable__label-arrow:hover:before {color: black;}#sk-container-id-1 div.sk-estimator:hover label.sk-toggleable__label-arrow:before {color: black;}#sk-container-id-1 div.sk-toggleable__content {max-height: 0;max-width: 0;overflow: hidden;text-align: left;background-color: #f0f8ff;}#sk-container-id-1 div.sk-toggleable__content pre {margin: 0.2em;color: black;border-radius: 0.25em;background-color: #f0f8ff;}#sk-container-id-1 input.sk-toggleable__control:checked~div.sk-toggleable__content {max-height: 200px;max-width: 100%;overflow: auto;}#sk-container-id-1 input.sk-toggleable__control:checked~label.sk-toggleable__label-arrow:before {content: \"▾\";}#sk-container-id-1 div.sk-estimator input.sk-toggleable__control:checked~label.sk-toggleable__label {background-color: #d4ebff;}#sk-container-id-1 div.sk-label input.sk-toggleable__control:checked~label.sk-toggleable__label {background-color: #d4ebff;}#sk-container-id-1 input.sk-hidden--visually {border: 0;clip: rect(1px 1px 1px 1px);clip: rect(1px, 1px, 1px, 1px);height: 1px;margin: -1px;overflow: hidden;padding: 0;position: absolute;width: 1px;}#sk-container-id-1 div.sk-estimator {font-family: monospace;background-color: #f0f8ff;border: 1px dotted black;border-radius: 0.25em;box-sizing: border-box;margin-bottom: 0.5em;}#sk-container-id-1 div.sk-estimator:hover {background-color: #d4ebff;}#sk-container-id-1 div.sk-parallel-item::after {content: \"\";width: 100%;border-bottom: 1px solid gray;flex-grow: 1;}#sk-container-id-1 div.sk-label:hover label.sk-toggleable__label {background-color: #d4ebff;}#sk-container-id-1 div.sk-serial::before {content: \"\";position: absolute;border-left: 1px solid gray;box-sizing: border-box;top: 0;bottom: 0;left: 50%;z-index: 0;}#sk-container-id-1 div.sk-serial {display: flex;flex-direction: column;align-items: center;background-color: white;padding-right: 0.2em;padding-left: 0.2em;position: relative;}#sk-container-id-1 div.sk-item {position: relative;z-index: 1;}#sk-container-id-1 div.sk-parallel {display: flex;align-items: stretch;justify-content: center;background-color: white;position: relative;}#sk-container-id-1 div.sk-item::before, #sk-container-id-1 div.sk-parallel-item::before {content: \"\";position: absolute;border-left: 1px solid gray;box-sizing: border-box;top: 0;bottom: 0;left: 50%;z-index: -1;}#sk-container-id-1 div.sk-parallel-item {display: flex;flex-direction: column;z-index: 1;position: relative;background-color: white;}#sk-container-id-1 div.sk-parallel-item:first-child::after {align-self: flex-end;width: 50%;}#sk-container-id-1 div.sk-parallel-item:last-child::after {align-self: flex-start;width: 50%;}#sk-container-id-1 div.sk-parallel-item:only-child::after {width: 0;}#sk-container-id-1 div.sk-dashed-wrapped {border: 1px dashed gray;margin: 0 0.4em 0.5em 0.4em;box-sizing: border-box;padding-bottom: 0.4em;background-color: white;}#sk-container-id-1 div.sk-label label {font-family: monospace;font-weight: bold;display: inline-block;line-height: 1.2em;}#sk-container-id-1 div.sk-label-container {text-align: center;}#sk-container-id-1 div.sk-container {/* jupyter's `normalize.less` sets `[hidden] { display: none; }` but bootstrap.min.css set `[hidden] { display: none !important; }` so we also need the `!important` here to be able to override the default hidden behavior on the sphinx rendered scikit-learn.org. See: https://github.com/scikit-learn/scikit-learn/issues/21755 */display: inline-block !important;position: relative;}#sk-container-id-1 div.sk-text-repr-fallback {display: none;}</style><div id=\"sk-container-id-1\" class=\"sk-top-container\"><div class=\"sk-text-repr-fallback\"><pre>LinearRegression()</pre><b>In a Jupyter environment, please rerun this cell to show the HTML representation or trust the notebook. <br />On GitHub, the HTML representation is unable to render, please try loading this page with nbviewer.org.</b></div><div class=\"sk-container\" hidden><div class=\"sk-item\"><div class=\"sk-estimator sk-toggleable\"><input class=\"sk-toggleable__control sk-hidden--visually\" id=\"sk-estimator-id-1\" type=\"checkbox\" checked><label for=\"sk-estimator-id-1\" class=\"sk-toggleable__label sk-toggleable__label-arrow\">LinearRegression</label><div class=\"sk-toggleable__content\"><pre>LinearRegression()</pre></div></div></div></div></div>"
      ],
      "text/plain": [
       "LinearRegression()"
      ]
     },
     "execution_count": 14,
     "metadata": {},
     "output_type": "execute_result"
    }
   ],
   "source": [
    "mod.fit(xtrain,ytrain)"
   ]
  },
  {
   "cell_type": "code",
   "execution_count": 15,
   "id": "3932df01-94b5-404b-a14e-7ca08a05d6d7",
   "metadata": {},
   "outputs": [],
   "source": [
    "ypred = mod.predict(xtest)"
   ]
  },
  {
   "cell_type": "markdown",
   "id": "e11835f4-afce-438b-b105-7f60c7ea4630",
   "metadata": {},
   "source": [
    "### Visulize the Model prediction"
   ]
  },
  {
   "cell_type": "code",
   "execution_count": 16,
   "id": "3d234a27-4343-40d7-8409-881dbb310ca7",
   "metadata": {},
   "outputs": [],
   "source": [
    "residuals = ytest - ypred"
   ]
  },
  {
   "cell_type": "code",
   "execution_count": 21,
   "id": "0ea1e506-40e8-4e85-b030-5d29feb5d7da",
   "metadata": {},
   "outputs": [
    {
     "data": {
      "image/png": "[encoded data removed]",
      "text/plain": [
       "<Figure size 640x480 with 1 Axes>"
      ]
     },
     "metadata": {},
     "output_type": "display_data"
    }
   ],
   "source": [
    "plt.scatter(ypred, residuals, color='blue', marker='o')\n",
    "plt.xlabel('Predicted Values')\n",
    "plt.ylabel('Exact Values')\n",
    "plt.show()"
   ]
  },
  {
   "cell_type": "markdown",
   "id": "501a62eb-b114-4c48-b4d9-0fe7bee87136",
   "metadata": {},
   "source": [
    "### Evalute the Model"
   ]
  },
  {
   "cell_type": "code",
   "execution_count": null,
   "id": "6fcecfe7-167f-4b02-9c35-2e08d30520a2",
   "metadata": {},
   "outputs": [],
   "source": [
    "#Mean Absolute Error\n",
    "mae = mean_absolute_error(y_test,y_predit)\n",
    "print(f'MAE: {mae:.4f}')"
   ]
  },
  {
   "cell_type": "code",
   "execution_count": null,
   "id": "7d547b5c-0b1b-40d9-a5ca-4dba267f6208",
   "metadata": {},
   "outputs": [],
   "source": [
    "#Mean Squared Error\n",
    "mse = mean_squared_error(y_test,y_predit)\n",
    "print(f'MSE: {mse:.4f}')"
   ]
  },
  {
   "cell_type": "code",
   "execution_count": null,
   "id": "9139f520-4642-4524-b65e-b93edc84aaa7",
   "metadata": {},
   "outputs": [],
   "source": [
    "# Calculate the mean of the actual values\n",
    "mean_y_test = np.mean(y_test)\n",
    "\n",
    "# Calculate SSR (Sum of Squared Residuals)\n",
    "ssr = np.sum((y_predit - y_test) ** 2)\n",
    "\n",
    "# Calculate SST (Total Sum of Squares)\n",
    "sst = np.sum((y_test - mean_y_test) ** 2)\n",
    "\n",
    "# Calculate R² manually\n",
    "r_squared = 1 - (ssr / sst)\n",
    "\n",
    "print(f'R-squared (R²) Score: {r_squared:.2f}')"
   ]
  },
  {
   "cell_type": "code",
   "execution_count": null,
   "id": "779a3cf8-7688-47be-8192-c639868b8d1c",
   "metadata": {},
   "outputs": [],
   "source": [
    "import pickle\n",
    "\n",
    "with open(\"model.pkl\", \"wb\") as f:\n",
    "    pickle.dump(mod, f)"
   ]
  }
 ],
 "metadata": {
  "kernelspec": {
   "display_name": "Python 3 (ipykernel)",
   "language": "python",
   "name": "python3"
  },
  "language_info": {
   "codemirror_mode": {
    "name": "ipython",
    "version": 3
   },
   "file_extension": ".py",
   "mimetype": "text/x-python",
   "name": "python",
   "nbconvert_exporter": "python",
   "pygments_lexer": "ipython3",
   "version": "3.11.2"
  }
 },
 "nbformat": 4,
 "nbformat_minor": 5
}
